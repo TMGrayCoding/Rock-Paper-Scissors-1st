{
  "nbformat": 4,
  "nbformat_minor": 0,
  "metadata": {
    "colab": {
      "name": "FirstML.ipynb",
      "provenance": [],
      "collapsed_sections": [],
      "authorship_tag": "ABX9TyO2CL6OQgSp/e08m8QyL/Iu",
      "include_colab_link": true
    },
    "kernelspec": {
      "name": "python3",
      "display_name": "Python 3"
    }
  },
  "cells": [
    {
      "cell_type": "markdown",
      "metadata": {
        "id": "view-in-github",
        "colab_type": "text"
      },
      "source": [
        "<a href=\"https://colab.research.google.com/github/TMGrayCoding/Rock-Paper-Scissors-1st/blob/main/FirstML.ipynb\" target=\"_parent\"><img src=\"https://colab.research.google.com/assets/colab-badge.svg\" alt=\"Open In Colab\"/></a>"
      ]
    },
    {
      "cell_type": "markdown",
      "metadata": {
        "id": "wdQibzpnQ5VV"
      },
      "source": [
        "Decision Tree Example"
      ]
    },
    {
      "cell_type": "code",
      "metadata": {
        "id": "qGJbfh-bQ_Rl"
      },
      "source": [
        "import sklearn\n",
        "from sklearn import datasets\n",
        "from sklearn import tree\n",
        "from sklearn.model_selection import cross_val_score\n",
        "\n",
        "#load iris datasets and definite the attr. and label in datasets\n",
        "iris = datasets.load_iris()\n",
        "x=iris.data\n",
        "y=iris.target\n",
        "\n",
        "#make a decision tree\n",
        "clf = tree.DecisionTreeClassifier()\n",
        "\n",
        "#evaluate model perform with cross_val_score\n",
        "scores = cross_val_score(clf, x, y, cv=5)\n",
        "scores\n",
        "\n",
        "#--> output: array([0.96666667, 0.96666667, 0.9       , 1.        , 1.        ])"
      ],
      "execution_count": null,
      "outputs": []
    },
    {
      "cell_type": "code",
      "metadata": {
        "id": "qvT34MRPtsx-"
      },
      "source": [
        "import pandas as pd\n",
        "import sklearn\n",
        "from sklearn.tree import DecisionTreeClassifier\n",
        "from sklearn.tree import export_graphviz\n",
        "\n",
        "iris = pd.read_csv('Iris.csv')\n",
        "iris.drop('Id',axis=1,inplace=True)\n",
        "\n",
        "x = iris[['SepalLengthCm', 'SepalWidthCm', 'PetalLengthCm', 'PetalWidthCm' ]]\n",
        "y = iris['Species']\n",
        "\n",
        "dtc = DecisionTreeClassifier()\n",
        "dtc.fit(x, y)\n",
        "\n",
        "dtc.predict([[6.2, 3.4, 5.4, 2.3]]) #output: array(['Iris-virginica'], dtype=object)\n",
        "\n",
        "#Decision Tree Visualization\n",
        "export_graphviz(\n",
        "    dtc,\n",
        "    out_file = \"Iris_Tree.dot\",\n",
        "    feature_names = ['SepalLengthCm', 'SepalWidthCm', 'PetalLengthCm', 'PetalWidthCm'],\n",
        "    class_names = ['Iris-setosa', 'Iris-versicolor', 'Iris-virginica' ],\n",
        "    rounded = True,\n",
        "    filled = True\n",
        ")"
      ],
      "execution_count": null,
      "outputs": []
    },
    {
      "cell_type": "markdown",
      "metadata": {
        "id": "0aq4_SR8QzN-"
      },
      "source": [
        "Linear Regression Example"
      ]
    },
    {
      "cell_type": "code",
      "metadata": {
        "id": "BwuOTKj1rSyQ"
      },
      "source": [
        "#                                                         # House Price Prediction #\n",
        "import numpy as np\n",
        "import matplotlib.pyplot as plt\n",
        "\n",
        "#data jumlah kamar\n",
        "bedrooms = np.array([1,1,2,2,3,4,4,5,5,5])\n",
        " \n",
        "#data harga rumah($)\n",
        "house_price = np.array([15000, 18000, 27000, 34000, 50000, 68000, 65000, 81000,85000, 90000])\n",
        "\n",
        "#scatter plot\n",
        "%matplotlib inline\n",
        " \n",
        "plt.scatter(bedrooms, house_price)"
      ],
      "execution_count": null,
      "outputs": []
    },
    {
      "cell_type": "code",
      "metadata": {
        "id": "1Wfc-XnGsNOQ"
      },
      "source": [
        "from sklearn.linear_model import LinearRegression\n",
        "import numpy as np\n",
        "import matplotlib.pyplot as plt\n",
        "\n",
        "#data jumlah kamar\n",
        "bedrooms = np.array([1,1,2,2,3,4,4,5,5,5]).reshape(-1, 1)\n",
        " \n",
        "#data harga rumah($)\n",
        "house_price = np.array([15000, 18000, 27000, 34000, 50000, 68000, 65000, 81000,85000, 90000])\n",
        "\n",
        "#model training with LinearRegression.fit()\n",
        "LG = LinearRegression()\n",
        "LG.fit(bedrooms, house_price)\n",
        "\n",
        "#hubungan jumlah kamar dengan harga rumah\n",
        "plt.scatter(bedrooms, house_price)\n",
        "plt.plot(bedrooms, LG.predict(bedrooms))"
      ],
      "execution_count": null,
      "outputs": []
    },
    {
      "cell_type": "markdown",
      "metadata": {
        "id": "jFDYRP_BQvB9"
      },
      "source": [
        "Logistic Regression Example"
      ]
    },
    {
      "cell_type": "code",
      "metadata": {
        "id": "awK261C4P4qm",
        "outputId": "c96b9a29-7789-4f6d-95b1-ee4d4c9f93ad",
        "colab": {
          "base_uri": "https://localhost:8080/",
          "height": 34
        }
      },
      "source": [
        "import pandas as pd\n",
        "from sklearn.model_selection import train_test_split\n",
        "from sklearn import linear_model\n",
        "from sklearn.preprocessing import StandardScaler\n",
        "\n",
        "df = pd.read_csv('Social_Network_Ads.csv') \n",
        "data = df.drop(columns=['User ID'])\n",
        "data = pd.get_dummies(data)\n",
        "data\n",
        "\n",
        "predictions = ['Age' , 'EstimatedSalary' , 'Gender_Female' , 'Gender_Male']\n",
        "x = data[predictions]\n",
        "y = data['Purchased'] \n",
        "\n",
        "x_train, x_test, y_train, y_test = train_test_split(x, y, test_size=0.25, random_state=42)\n",
        "model = linear_model.LogisticRegression()\n",
        "model.fit(x_train, y_train)\n",
        "model.score(x_test, y_test)"
      ],
      "execution_count": null,
      "outputs": [
        {
          "output_type": "execute_result",
          "data": {
            "text/plain": [
              "0.63"
            ]
          },
          "metadata": {
            "tags": []
          },
          "execution_count": 16
        }
      ]
    },
    {
      "cell_type": "markdown",
      "metadata": {
        "id": "lXLMSRCXVztN"
      },
      "source": [
        "K-Means Example --------------------FAILED-------------------"
      ]
    },
    {
      "cell_type": "code",
      "metadata": {
        "id": "jhbQED6qV5eL"
      },
      "source": [
        "import pandas as pd\n",
        "from sklearn.cluster import KMeans\n",
        "#plot\n",
        "import matplotlib.pyplot as plt\n",
        "%matplotlib inline\n",
        "import seaborn as sns #statitiscal data visualization\n",
        "\n",
        "df = pd.read_csv('Mall_Customers.csv')\n",
        "\n",
        "df = df.rename(columns={'Gender': 'gender', 'Age': 'age',\n",
        "                        'Annual Income (k$)': 'annual_income',\n",
        "                        'Spending Score (1-100)': 'spending_score'})\n",
        "df['gender'].replace(['Female', 'Male'], [0,1], inplace=True)\n",
        "x = df.drop(['CustomerID', 'gender'], axis=1)\n",
        "df.head()\n",
        "#make inertia list\n",
        "cluster = []\n",
        "for i in range(1,11):\n",
        "  km = KMeans(n_clusters=i).fit(x)\n",
        "  cluster.append(km.inertia_)\n",
        "\n",
        "#make inertia plot\n",
        "fig, ax = plt.subplots(figsize=(8, 4))\n",
        "sns.lineplot(x=list(range(1, 11)), y=i, ax=ax)\n",
        "ax.set_title('Elbow Method')\n",
        "ax.set_xlabel('Clusters')\n",
        "ax.set_ylabel('Inertia')\n",
        "\n",
        "#make another KMeans after using elbow method\n",
        "km5 = KMeans(n_clusters=5).fit(X)\n",
        " \n",
        "# menambahkan kolom label pada dataset\n",
        "X['Labels'] = km5.labels_\n",
        " \n",
        "# membuat plot KMeans dengan 5 klaster\n",
        "plt.figure(figsize=(8,4))\n",
        "sns.scatterplot(X['annual_income'], X['spending_score'], hue=X['Labels'],\n",
        "                palette=sns.color_palette('hls', 5))\n",
        "plt.title('KMeans dengan 5 Cluster')\n",
        "plt.show()"
      ],
      "execution_count": null,
      "outputs": []
    },
    {
      "cell_type": "markdown",
      "metadata": {
        "id": "4oOo1tlKZ1Ot"
      },
      "source": [
        "Elbow from KMeans\n",
        "![Elbow_Mall_Customers.png](data:image/png;base64,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)\n",
        "\n",
        "\n",
        "\n",
        "KMeans 5 Cluster\n",
        "![KMeans_5Cluster_Mall_Customers.png](data:image/png;base64,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)"
      ]
    },
    {
      "cell_type": "markdown",
      "metadata": {
        "id": "zFkX5wlRgGfg"
      },
      "source": [
        "PCA(Principal Component Analysis)km5 = KMeans(n_clusters=5).fit(X)"
      ]
    },
    {
      "cell_type": "code",
      "metadata": {
        "id": "izUkJdWCge_G",
        "outputId": "7926b398-9899-4e62-fc5a-ac563237ecbe",
        "colab": {
          "base_uri": "https://localhost:8080/",
          "height": 34
        }
      },
      "source": [
        "from sklearn import datasets\n",
        "from sklearn.model_selection import train_test_split\n",
        "from sklearn.datasets import load_iris\n",
        "from sklearn.tree import DecisionTreeClassifier\n",
        "from sklearn.decomposition import PCA\n",
        "\n",
        "iris = load_iris()\n",
        "x = iris.data\n",
        "y = iris.target\n",
        "\n",
        "x_train, x_test, y_train, y_test = train_test_split(x, y, test_size=0.2)\n",
        "\n",
        "dt = DecisionTreeClassifier()\n",
        "first_model = dt.fit(x_train, y_train)\n",
        "first_model.score(x_test, y_test)\n",
        "\n",
        "#output = 0.9333333333333333\n",
        "\n",
        "'''\n",
        "#mencari PCA dengan nilai yang cukup tinggi\n",
        "#PCA with 4 principal component||output(random): array([0.92626508, 0.05012936, 0.01805962, 0.00554594])\n",
        "pca = PCA(n_components=4)\n",
        "#mengaplikasikan PCA pada dataser\n",
        "pca_attributes = pca.fit_transform(x_train)\n",
        "#melihat variance pada setiap atribut\n",
        "pca.explained_variance_ratio_\n",
        "'''\n",
        "#PCA with 2 principal component(input the highest score from PCA with 4 principal component)\n",
        "pca = PCA(n_components=2)\n",
        "x_train_pca = pca.fit_transform(x_train)\n",
        "x_test_pca = pca.fit_transform(x_test)\n",
        "\n",
        "#test the classifier accuration\n",
        "model2 = dt.fit(x_train_pca, y_train)\n",
        "model2.score(x_test_pca, y_test)"
      ],
      "execution_count": null,
      "outputs": [
        {
          "output_type": "execute_result",
          "data": {
            "text/plain": [
              "0.9333333333333333"
            ]
          },
          "metadata": {
            "tags": []
          },
          "execution_count": 6
        }
      ]
    },
    {
      "cell_type": "markdown",
      "metadata": {
        "id": "Yq3sAOaXgb9n"
      },
      "source": [
        "SVM(Support Vector Machine)"
      ]
    },
    {
      "cell_type": "code",
      "metadata": {
        "id": "3Ro01QRJghFG",
        "outputId": "50ef0be0-b630-45ec-93cf-f53cd3958859",
        "colab": {
          "base_uri": "https://localhost:8080/",
          "height": 34
        }
      },
      "source": [
        "                                          # Pima India Diabetes Database\n",
        "import pandas as pd\n",
        "from sklearn.preprocessing import StandardScaler\n",
        "from sklearn.model_selection import train_test_split\n",
        "from sklearn.svm import SVC\n",
        "\n",
        "df = pd.read_csv('diabetes.csv')\n",
        "\n",
        "x = df[df.columns[:8]]\n",
        "y = df['Outcome']\n",
        "\n",
        "scaler = StandardScaler()\n",
        "scaler.fit(x)\n",
        "x = scaler.transform(x)\n",
        "\n",
        "x_train, x_test, y_train, y_test = train_test_split(x, y, test_size=0.33, random_state=42)\n",
        "clf = SVC()\n",
        "clf.fit(x_train, y_train)\n",
        "clf.score(x_test, y_test)"
      ],
      "execution_count": null,
      "outputs": [
        {
          "output_type": "execute_result",
          "data": {
            "text/plain": [
              "0.7559055118110236"
            ]
          },
          "metadata": {
            "tags": []
          },
          "execution_count": 5
        }
      ]
    },
    {
      "cell_type": "markdown",
      "metadata": {
        "id": "wt0t68B8jWeV"
      },
      "source": [
        "SVR(Support Vector Regression)"
      ]
    },
    {
      "cell_type": "code",
      "metadata": {
        "id": "8kS_47Ozjbgv"
      },
      "source": [
        "                                                            # Salary_Data\n",
        "import pandas as pd\n",
        "import numpy as np\n",
        "from sklearn.svm import SVR\n",
        "import matplotlib.pyplot as plt\n",
        "\n",
        "sal = pd.read_csv('Salary_Data.csv')\n",
        "\n",
        "x = sal['YearsExperience']\n",
        "y = sal['Salary']\n",
        "x = x[:,np.newaxis]\n",
        "\n",
        "model = SVR(C=1000, gamma=0.05, kernel='rbf')   #i dunno bout this thing\n",
        "model.fit(x, y)\n",
        "\n",
        "plt.scatter(x, y)\n",
        "plt.plot(x, model.predict(x))"
      ],
      "execution_count": null,
      "outputs": []
    },
    {
      "cell_type": "markdown",
      "metadata": {
        "id": "FQgP_BiPlg69"
      },
      "source": [
        "SVR with grid search"
      ]
    },
    {
      "cell_type": "code",
      "metadata": {
        "id": "ytm-HFM6lk3-"
      },
      "source": [
        "import pandas as pd\n",
        "import numpy as np\n",
        "from sklearn.svm import SVR\n",
        "from sklearn.model_selection import GridSearchCV\n",
        "import matplotlib.pyplot as plt\n",
        "\n",
        "sal = pd.read_csv('Salary_Data.csv')\n",
        "\n",
        "x = sal['YearsExperience']\n",
        "y = sal['Salary']\n",
        "x = x[:,np.newaxis]\n",
        "\n",
        "model = SVR()\n",
        "param = {\n",
        "    'kernel': ['rbf'],\n",
        "    'C':     [1000, 10000, 100000],\n",
        "    'gamma': [0.5, 0.05,0.005]\n",
        "}\n",
        "gs = GridSearchCV(model, param)\n",
        "gs.fit(x, y)\n",
        "print(gs.best_params_) # ---> the best model: {'C': 100000, 'gamma': 0.005, 'kernel': 'rbf'}\n",
        "\n",
        "#make the best model from grid search result\n",
        "new_model = SVR(C=100000, gamma=0.005, kernel='rbf')\n",
        "new_model.fit(x, y)\n",
        "\n",
        "plt.scatter(x, y)\n",
        "plt.plot(x, new_model.predict(x))"
      ],
      "execution_count": null,
      "outputs": []
    },
    {
      "cell_type": "markdown",
      "metadata": {
        "id": "r2og9Czuk5c6"
      },
      "source": [
        "Image Model Classification"
      ]
    },
    {
      "cell_type": "code",
      "metadata": {
        "id": "ya2zjCrLk7Vw",
        "outputId": "770daf77-59a5-4308-eced-86386bb49eae",
        "colab": {
          "base_uri": "https://localhost:8080/"
        }
      },
      "source": [
        "                                                              # Bedrooms Check\n",
        "!wget --no-check-certificate \\\n",
        "  https://dicodingacademy.blob.core.windows.net/picodiploma/ml_pemula_academy/messy-vs-clean-room.zip \\\n",
        "  -O /tmp/messy_vs_clean_room.zip"
      ],
      "execution_count": null,
      "outputs": [
        {
          "output_type": "stream",
          "text": [
            "--2020-10-29 12:05:08--  https://dicodingacademy.blob.core.windows.net/picodiploma/ml_pemula_academy/messy-vs-clean-room.zip\n",
            "Resolving dicodingacademy.blob.core.windows.net (dicodingacademy.blob.core.windows.net)... 52.239.197.36\n",
            "Connecting to dicodingacademy.blob.core.windows.net (dicodingacademy.blob.core.windows.net)|52.239.197.36|:443... connected.\n",
            "HTTP request sent, awaiting response... 200 OK\n",
            "Length: 70392746 (67M) [application/zip]\n",
            "Saving to: ‘/tmp/messy_vs_clean_room.zip’\n",
            "\n",
            "/tmp/messy_vs_clean 100%[===================>]  67.13M  8.40MB/s    in 12s     \n",
            "\n",
            "2020-10-29 12:05:21 (5.64 MB/s) - ‘/tmp/messy_vs_clean_room.zip’ saved [70392746/70392746]\n",
            "\n"
          ],
          "name": "stdout"
        }
      ]
    },
    {
      "cell_type": "code",
      "metadata": {
        "id": "lFRIJKtaymEE"
      },
      "source": [
        "import tensorflow as tf\n",
        "import zipfile,os\n",
        "\n",
        "local_zip = '/tmp/messy_vs_clean_room.zip'\n",
        "zip_ref = zipfile.ZipFile(local_zip, 'r')\n",
        "zip_ref.extractall('/tmp')\n",
        "zip_ref.close()\n",
        " \n",
        "base_dir = '/tmp/images'\n",
        "train_dir = os.path.join(base_dir, 'train')\n",
        "validation_dir = os.path.join(base_dir, 'val')\n",
        "\n",
        " # membuat direktori ruangan rapi pada direktori data training\n",
        "train_clean_dir = os.path.join(train_dir, 'clean')\n",
        " # membuat direktori ruangan berantakan pada direktori data training\n",
        "train_messy_dir = os.path.join(train_dir, 'messy')\n",
        " # membuat direktori ruangan rapi pada direktori data validasi\n",
        "validation_clean_dir = os.path.join(validation_dir, 'clean')\n",
        " # membuat direktori ruangan berantakan pada direktori data validasi\n",
        "validation_messy_dir = os.path.join(validation_dir, 'messy')"
      ],
      "execution_count": null,
      "outputs": []
    },
    {
      "cell_type": "code",
      "metadata": {
        "id": "8VPuMeQxyzNT",
        "outputId": "38001657-2af4-41a5-89b7-8de012afd030",
        "colab": {
          "base_uri": "https://localhost:8080/"
        }
      },
      "source": [
        "from tensorflow.keras.preprocessing.image import ImageDataGenerator\n",
        " \n",
        "train_datagen = ImageDataGenerator(\n",
        "                    rescale=1./255,\n",
        "                    rotation_range=20,\n",
        "                    horizontal_flip=True,\n",
        "                    shear_range = 0.2,\n",
        "                    fill_mode = 'nearest')\n",
        " \n",
        "test_datagen = ImageDataGenerator(\n",
        "                    rescale=1./255,\n",
        "                    rotation_range=20,\n",
        "                    horizontal_flip=True,\n",
        "                    shear_range = 0.2,\n",
        "                    fill_mode = 'nearest')\n",
        "\n",
        "train_generator = train_datagen.flow_from_directory(\n",
        "        train_dir,  # direktori data latih\n",
        "        target_size=(150, 150),  # mengubah resolusi seluruh gambar menjadi 150x150 piksel\n",
        "        batch_size=4,\n",
        "        # karena kita merupakan masalah klasifikasi 2 kelas maka menggunakan class_mode = 'binary'\n",
        "        class_mode='binary')\n",
        " \n",
        "validation_generator = test_datagen.flow_from_directory(\n",
        "        validation_dir, # direktori data validasi\n",
        "        target_size=(150, 150), # mengubah resolusi seluruh gambar menjadi 150x150 piksel\n",
        "        batch_size=4, # karena kita merupakan masalah klasifikasi 2 kelas maka menggunakan class_mode = 'binary'\n",
        "        class_mode='binary')"
      ],
      "execution_count": null,
      "outputs": [
        {
          "output_type": "stream",
          "text": [
            "Found 192 images belonging to 2 classes.\n",
            "Found 20 images belonging to 2 classes.\n"
          ],
          "name": "stdout"
        }
      ]
    },
    {
      "cell_type": "code",
      "metadata": {
        "id": "q4U2IojZy4KM",
        "outputId": "c168aa4b-17a9-4b20-eb5d-4e124ac0a410",
        "colab": {
          "base_uri": "https://localhost:8080/"
        }
      },
      "source": [
        "model = tf.keras.models.Sequential([\n",
        "    tf.keras.layers.Conv2D(32, (3,3), activation='relu', input_shape=(150, 150, 3)),\n",
        "    tf.keras.layers.MaxPooling2D(2, 2),\n",
        "    tf.keras.layers.Conv2D(64, (3,3), activation='relu'),\n",
        "    tf.keras.layers.MaxPooling2D(2,2),\n",
        "    tf.keras.layers.Conv2D(128, (3,3), activation='relu'),\n",
        "    tf.keras.layers.MaxPooling2D(2,2),\n",
        "    tf.keras.layers.Conv2D(128, (3,3), activation='relu'),\n",
        "    tf.keras.layers.MaxPooling2D(2,2),\n",
        "    tf.keras.layers.Flatten(),\n",
        "    tf.keras.layers.Dense(512, activation='relu'),\n",
        "    tf.keras.layers.Dense(1, activation='sigmoid')\n",
        "])\n",
        "\n",
        "# compile model dengan 'adam' optimizer loss function 'binary_crossentropy' \n",
        "model.compile(loss='binary_crossentropy',\n",
        "              optimizer=tf.optimizers.Adam(),\n",
        "              metrics=['accuracy'])\n",
        "\n",
        "# latih model dengan model.fit \n",
        "model.fit(\n",
        "      train_generator,\n",
        "      steps_per_epoch=25,  # berapa batch yang akan dieksekusi pada setiap epoch\n",
        "      epochs=20, # tambahkan eposchs jika akurasi model belum optimal\n",
        "      validation_data=validation_generator, # menampilkan akurasi pengujian data validasi\n",
        "      validation_steps=5,  # berapa batch yang akan dieksekusi pada setiap epoch\n",
        "      verbose=2\n",
        "      )"
      ],
      "execution_count": null,
      "outputs": [
        {
          "output_type": "stream",
          "text": [
            "Epoch 1/20\n",
            "25/25 - 6s - loss: 0.7652 - accuracy: 0.5000 - val_loss: 0.6887 - val_accuracy: 0.5000\n",
            "Epoch 2/20\n",
            "25/25 - 6s - loss: 0.6955 - accuracy: 0.5100 - val_loss: 0.6951 - val_accuracy: 0.5000\n",
            "Epoch 3/20\n",
            "25/25 - 6s - loss: 0.7003 - accuracy: 0.5100 - val_loss: 0.6925 - val_accuracy: 0.5000\n",
            "Epoch 4/20\n",
            "25/25 - 6s - loss: 0.7082 - accuracy: 0.5300 - val_loss: 0.6550 - val_accuracy: 0.5000\n",
            "Epoch 5/20\n",
            "25/25 - 6s - loss: 0.6862 - accuracy: 0.7000 - val_loss: 0.6794 - val_accuracy: 0.6500\n",
            "Epoch 6/20\n",
            "25/25 - 6s - loss: 0.7078 - accuracy: 0.4700 - val_loss: 0.7029 - val_accuracy: 0.5000\n",
            "Epoch 7/20\n",
            "25/25 - 6s - loss: 0.6969 - accuracy: 0.5700 - val_loss: 0.6948 - val_accuracy: 0.5000\n",
            "Epoch 8/20\n",
            "25/25 - 6s - loss: 0.6945 - accuracy: 0.5200 - val_loss: 0.6941 - val_accuracy: 0.5000\n",
            "Epoch 9/20\n",
            "25/25 - 6s - loss: 0.6935 - accuracy: 0.5400 - val_loss: 0.6920 - val_accuracy: 0.5000\n",
            "Epoch 10/20\n",
            "25/25 - 6s - loss: 0.6909 - accuracy: 0.5000 - val_loss: 0.6889 - val_accuracy: 0.5000\n",
            "Epoch 11/20\n",
            "25/25 - 6s - loss: 0.6587 - accuracy: 0.5300 - val_loss: 0.6636 - val_accuracy: 0.5000\n",
            "Epoch 12/20\n",
            "25/25 - 6s - loss: 0.6752 - accuracy: 0.7100 - val_loss: 0.7712 - val_accuracy: 0.5000\n",
            "Epoch 13/20\n",
            "25/25 - 6s - loss: 0.6860 - accuracy: 0.6000 - val_loss: 0.5994 - val_accuracy: 0.6500\n",
            "Epoch 14/20\n",
            "25/25 - 6s - loss: 0.6951 - accuracy: 0.6000 - val_loss: 0.6828 - val_accuracy: 0.6500\n",
            "Epoch 15/20\n",
            "25/25 - 6s - loss: 0.6532 - accuracy: 0.6700 - val_loss: 0.7213 - val_accuracy: 0.6000\n",
            "Epoch 16/20\n",
            "25/25 - 6s - loss: 0.6447 - accuracy: 0.6500 - val_loss: 0.6646 - val_accuracy: 0.7000\n",
            "Epoch 17/20\n",
            "25/25 - 6s - loss: 0.6669 - accuracy: 0.6600 - val_loss: 0.6127 - val_accuracy: 0.8000\n",
            "Epoch 18/20\n",
            "25/25 - 6s - loss: 0.6083 - accuracy: 0.5900 - val_loss: 0.6416 - val_accuracy: 0.6500\n",
            "Epoch 19/20\n",
            "25/25 - 6s - loss: 0.5986 - accuracy: 0.7000 - val_loss: 0.5659 - val_accuracy: 0.7000\n",
            "Epoch 20/20\n",
            "25/25 - 6s - loss: 0.5701 - accuracy: 0.6800 - val_loss: 0.5264 - val_accuracy: 0.6500\n"
          ],
          "name": "stdout"
        },
        {
          "output_type": "execute_result",
          "data": {
            "text/plain": [
              "<tensorflow.python.keras.callbacks.History at 0x7fb2bb9e6828>"
            ]
          },
          "metadata": {
            "tags": []
          },
          "execution_count": 7
        }
      ]
    },
    {
      "cell_type": "code",
      "metadata": {
        "id": "ekgBWGorWTZY"
      },
      "source": [
        "import numpy as np\n",
        "from google.colab import files\n",
        "from keras.preprocessing import image\n",
        "import matplotlib.pyplot as plt\n",
        "import matplotlib.image as mpimg\n",
        "%matplotlib inline\n",
        " \n",
        "uploaded = files.upload()\n",
        " \n",
        "for fn in uploaded.keys():\n",
        " \n",
        "  # predicting images\n",
        "  path = fn\n",
        "  img = image.load_img(path, target_size=(150,150))\n",
        "  imgplot = plt.imshow(img)\n",
        "  x = image.img_to_array(img)\n",
        "  x = np.expand_dims(x, axis=0)\n",
        " \n",
        "  images = np.vstack([x])\n",
        "  classes = model.predict(images, batch_size=10)\n",
        "  \n",
        "  print(fn)\n",
        "  if classes==0:\n",
        "    print('clean')\n",
        "  else:\n",
        "    print('messy')"
      ],
      "execution_count": null,
      "outputs": []
    },
    {
      "cell_type": "code",
      "metadata": {
        "id": "jT4WeCkIWkHW"
      },
      "source": [
        ""
      ],
      "execution_count": null,
      "outputs": []
    }
  ]
}